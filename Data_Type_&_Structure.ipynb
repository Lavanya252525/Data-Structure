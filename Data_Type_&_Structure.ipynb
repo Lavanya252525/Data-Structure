{
  "nbformat": 4,
  "nbformat_minor": 0,
  "metadata": {
    "colab": {
      "provenance": []
    },
    "kernelspec": {
      "name": "python3",
      "display_name": "Python 3"
    },
    "language_info": {
      "name": "python"
    }
  },
  "cells": [
    {
      "cell_type": "markdown",
      "source": [],
      "metadata": {
        "id": "FuKhwWMttdZx"
      }
    },
    {
      "cell_type": "markdown",
      "source": [
        "# **Data Types and Structure Assignment**"
      ],
      "metadata": {
        "id": "RIyKGbpytfJJ"
      }
    },
    {
      "cell_type": "markdown",
      "source": [
        "1. What are Data Structures and why are they important?\n",
        " - Data Structures are they ways of organizing and storing data so that it can be accessed and manipulated effectively.\n",
        "*Importance*\n",
        " -They make things faster, have space and help solve problems in a better and effective manner.\n",
        "\n",
        "2. Explain the difference between mutable and immutable data types with examples.\n",
        " - Mutable means changeable- User could modify the data after creating a certain data type. For example: lists([]), dictionaries({}), Sets(()).\n",
        " - Immutable means unchangeable- once user creates a certain data type, he/she can not change it. For example- string(\"hello\"), Tuple((1, 2, 3))."
      ],
      "metadata": {
        "id": "PICcdIsQty9s"
      }
    },
    {
      "cell_type": "code",
      "source": [
        "#Example for mutable data type (Lists)\n",
        "my_list = [1, 2, 3]\n",
        "my_list[0]= 9\n",
        "my_list #It will change the value and won't give any error."
      ],
      "metadata": {
        "colab": {
          "base_uri": "https://localhost:8080/"
        },
        "id": "vIng6my6yGsL",
        "outputId": "d8de588e-9ab8-48b6-e854-1b25a28709c5"
      },
      "execution_count": null,
      "outputs": [
        {
          "output_type": "execute_result",
          "data": {
            "text/plain": [
              "[9, 2, 3]"
            ]
          },
          "metadata": {},
          "execution_count": 1
        }
      ]
    },
    {
      "cell_type": "code",
      "source": [
        "#Example for immutable data type (String)\n",
        "my_string = \"pwskills\"\n",
        "my_string[0] = \"A\" #It will throw an error"
      ],
      "metadata": {
        "colab": {
          "base_uri": "https://localhost:8080/",
          "height": 176
        },
        "id": "ION7s9wKykRV",
        "outputId": "74219f11-b0e3-4871-c2f8-8e9632318433"
      },
      "execution_count": null,
      "outputs": [
        {
          "output_type": "error",
          "ename": "TypeError",
          "evalue": "'str' object does not support item assignment",
          "traceback": [
            "\u001b[0;31m---------------------------------------------------------------------------\u001b[0m",
            "\u001b[0;31mTypeError\u001b[0m                                 Traceback (most recent call last)",
            "\u001b[0;32m<ipython-input-2-f97344bce377>\u001b[0m in \u001b[0;36m<cell line: 0>\u001b[0;34m()\u001b[0m\n\u001b[1;32m      1\u001b[0m \u001b[0;31m#Example for immutable data type (String)\u001b[0m\u001b[0;34m\u001b[0m\u001b[0;34m\u001b[0m\u001b[0m\n\u001b[1;32m      2\u001b[0m \u001b[0mmy_string\u001b[0m \u001b[0;34m=\u001b[0m \u001b[0;34m\"pwskills\"\u001b[0m\u001b[0;34m\u001b[0m\u001b[0;34m\u001b[0m\u001b[0m\n\u001b[0;32m----> 3\u001b[0;31m \u001b[0mmy_string\u001b[0m\u001b[0;34m[\u001b[0m\u001b[0;36m0\u001b[0m\u001b[0;34m]\u001b[0m \u001b[0;34m=\u001b[0m \u001b[0;34m\"A\"\u001b[0m \u001b[0;31m#It will throw an error\u001b[0m\u001b[0;34m\u001b[0m\u001b[0;34m\u001b[0m\u001b[0m\n\u001b[0m",
            "\u001b[0;31mTypeError\u001b[0m: 'str' object does not support item assignment"
          ]
        }
      ]
    },
    {
      "cell_type": "markdown",
      "source": [
        "3. What are the main difference between lists and tuples in python?\n",
        " - Both lists and tuples are data types that are ordered collection of elements and could contain heterogenous items.\n",
        " - The main difference between lists and tuples is that List is mutable data type i.e changeable and is accessed by []. Whereas, Tuple is immutable data type i.e not changeable and is accessed by ().\n",
        "\n",
        "4. Describe how dictionaries store data.\n",
        " - Dictionaries stores data in key value pairs. One part is the key (like a word in a dictionary). The other is the value (like the meaning of that word).\n",
        "\n",
        "5. Why might you use a set instead of a list in python.\n",
        " - A user might use a set instead of a list if a user wants to store a data but wants to avoid any duplicate entry and wants a unique item. Also, If a user wants to perform some mathematical operations like Union(|), Intersection(&), Difference(-), Symmetric difference(^).\n",
        "\n",
        "6. What is a string in python, and how is it different from a list?\n",
        " - A string is a sequence of characters - letters, numbers, symbols- enclosed in quotations.\n",
        " - String is different from a list in many ways:\n",
        " 1. String can hold only characters whereas a list can hold heterogenous data like integers, float, text and complex characters.\n",
        " 2. String is immutable i.e not changeable whereas a list is mutable i.e changeable.\n",
        " 3. String is generally used for storing words, sentences and text data. On the other hand a list is used for storing a group of items.\n",
        " 4. Syntax for a string is (\"\") and syntax for a list is ([]).\n",
        "\n",
        "7. How do tuples ensure data integrity in python?\n",
        " - Tuples ensure data integrity by:\n",
        " - Tuple being immutable, the data can not be changed once created by the user.\n",
        " - Protect important data from accidental edits.\n",
        " - Improves code clarity and intent of the code.\n",
        "\n",
        "8. What is hash table, and how does it relate to dictionaries in python?\n",
        " - Hash table is a clever way to store and find data super fast. It works by converting a key (like a name or number)into a unique number using a special formula called a hash function.\n",
        " - A dictionary in python is built using a hash table under the scenes. So when you use a dictionary, you're really using a user-friendly interface to a powerful hash table in the background.\n",
        "\n",
        "9. Can lists contain different data types in python?\n",
        " - Yes, in python a list can contain different data types. Lists in python are very flexible- they can hold: Numbers, Strings, Boolean values, Other lists, Even a mix of all these.\n",
        "\n",
        "10. Explain why strings are immutable in python?\n",
        " - Once a string is created in python, you can not change or modify its contents. you can make a new string, but you can not modify the original one.Strings are immutable in python to make programs faster, safer and more reliable. It might feel strict at first but it actually helps avoid bugs/errors in your code.\n",
        "\n",
        "11. What advantages do dictionaries offer over lists for certain tasks?\n",
        " - While lists are great for storing items in order, dictionaries offer several advantages for specific tasks:\n",
        " - Fast lookups by name(key):Dictionaries let you access values using decriptive keys, not just by numbers.\n",
        " - Dictionaries let you organize data are key-value pairs, which is easier to understand and manage, eg- storing an employee records, Details of a restaurent's menu.\n",
        " - No need to remenber index numbers: In a list you must remember the index number of an item where as, in a dictionary, you just use the key name.\n",
        " - No duplicate keys allowed: This prevents accidental over writing or confusion- each key is unique, making data more organized.\n",
        " -Ideal for structered data:Dictionaries are perfect when you're dealing with things like- user profile, inventory items, menu items.\n",
        "\n",
        "12. Describe a scenerio where using a tuple would be preferable over a list.\n",
        " - Tuples are immutable, meaning there vales can not be modified after creation. A scenerio where using a tuple would be preferable over a list: Say you want to record attendence for each employee based on their ID and names. Since ID and name don't change often, you could store them in a tuple as a unique identifier.\n",
        "\n",
        "13. How do sets handle duplicate values in python?\n",
        " - A set is an unordered collection of unique elements. When you add a duplicate value to a set, as a result - duplicate values are automatically ignored. The set always contains only one instance of each unique value. This behaviour is inherent to how sets are designed, amd it works the same every time.\n",
        "\n",
        "14. How does the \"in\" keyword works differently for lists and dictionaries?\n",
        " - In lists: When you use \"in\" with a list, python performs a linear search. It goes through each element one by one, checking for a match.\n",
        " - In dictionaries: When you use \"in\" with a dictionary, python checks only the keys, not the values.\n",
        "\n",
        "15. Can you modify the elements of a tuple? explain why or why not.\n",
        " - No you can not modify the elements of a tuple in python because tuples are immutable- once a tuple is created, its elements can not be changed, added or removed. When python creates a tuple, it stores the data in a fixed memory structure.\n",
        " - However, If tuple contains a mutable elememts (like a list), you can change the contents of that inner object. But tuple itself  is still unchanged- you didn't replace an element, you just changed the part of a mutable object inside it.\n",
        "\n",
        "16. What is a nested dictionary and give an example of its use case.\n",
        " - A nested dictionary is a dictionary inside another dictionary. It allows you to store structured, layered data- like a mini database.\n",
        " - Use Case: Student Record System- You want to store details of multiple students. instead of creating a list of separate dictionaries or using complex structures, you can use a nested dictionary.\n",
        "\n",
        "17. Describe the time complexity of accessing elements in a dictionary.\n",
        " - Accessing an element in a python dictionary takes a vert short and constant average time. No matter how big the dictionary is, you can usually get the value for a key very quickly without searching through all the items. Dictionary lookups are very fast.\n",
        "\n",
        "18. In what situations are lists preferred over dictionaries?\n",
        " - You should use a list over a dictionary in the following cases:\n",
        " - When the order of the values added matters as lists keep items in the exact order you added them and you can access them easily with use of index/positions.\n",
        " - You don't need any labels or keys: Lists are perfect for simple collections of items, like number or names.\n",
        " - You need to store duplicates: Lists allows you to store repeated values, unlike sets or dictionary keys.\n",
        " - You want to loop through items by position: lists are easy to loop through using indexes.\n",
        " - Data has no clear keu-value structure, a list would be simpler in such case.\n",
        "\n",
        "19. Why are dictionaries considered unordered, and how does that affect data retrieval?\n",
        " - Traditionally, Dictionaries do not keep items in the order they were added, this means the key and the value have no fixed position inside the dictionary.\n",
        " - When you retrieve items by using the key, you get the correct value quickly, regardless of where it is stored. But if you try to loop through the dictionary, the order of items might seem random or different each time. So, you can not reply on the order of elements in a dictionary.\n",
        "\n",
        "20. Explain the difference between a list and a dictionary in terms of data review.\n",
        " - List: A list is an ordered collection of elements. Data is accessed and reviewed by indexes and the order of the elements is maintained, allowing sequential review. Suitable for situations where order and reposition matter.\n",
        " - Dictionary: A dictionary is an unordered collection of key-value pairs. Data is accessed and reviewed by keys which act as unique identifiers. The order of items is not guaranteed so, the ideal situation is where direct lookup by a unique key is required.\n"
      ],
      "metadata": {
        "id": "MxCsxWaTtyyH"
      }
    },
    {
      "cell_type": "markdown",
      "source": [
        "# **Practical Questions**"
      ],
      "metadata": {
        "id": "KwEFbo35tynb"
      }
    },
    {
      "cell_type": "markdown",
      "source": [
        "1. Write a code to create a string with your name and print it."
      ],
      "metadata": {
        "id": "yxdvI7nvtyVg"
      }
    },
    {
      "cell_type": "code",
      "source": [
        "str = \"Lavanya\""
      ],
      "metadata": {
        "id": "bypbO6lsltLf"
      },
      "execution_count": 1,
      "outputs": []
    },
    {
      "cell_type": "markdown",
      "source": [
        "2. Write a code to find the length of a string \"Hello World\"."
      ],
      "metadata": {
        "id": "pOYJDg2LtyIb"
      }
    },
    {
      "cell_type": "code",
      "source": [
        "a = \"Hello World\"\n",
        "len(a)"
      ],
      "metadata": {
        "colab": {
          "base_uri": "https://localhost:8080/"
        },
        "id": "E9FR0eXPmHGv",
        "outputId": "209ea5e2-acf9-4961-c1ad-755c810292bd"
      },
      "execution_count": 2,
      "outputs": [
        {
          "output_type": "execute_result",
          "data": {
            "text/plain": [
              "11"
            ]
          },
          "metadata": {},
          "execution_count": 2
        }
      ]
    },
    {
      "cell_type": "markdown",
      "source": [
        "3. Write a code to slice the first 3 characters from the string \"Python Programming\"."
      ],
      "metadata": {
        "id": "tG4AiGdHtxuf"
      }
    },
    {
      "cell_type": "code",
      "source": [
        "b = \"Python Programming\"\n",
        "b[0:3]"
      ],
      "metadata": {
        "id": "4Tsq1R1dtwcN",
        "colab": {
          "base_uri": "https://localhost:8080/",
          "height": 35
        },
        "outputId": "f6205220-ba54-4e69-ebd7-aedbc7e4b2a8"
      },
      "execution_count": 3,
      "outputs": [
        {
          "output_type": "execute_result",
          "data": {
            "text/plain": [
              "'Pyt'"
            ],
            "application/vnd.google.colaboratory.intrinsic+json": {
              "type": "string"
            }
          },
          "metadata": {},
          "execution_count": 3
        }
      ]
    },
    {
      "cell_type": "markdown",
      "source": [
        "4. Write a code to convert the string \"hello\" to uppercase."
      ],
      "metadata": {
        "id": "z-qBh1-SmODt"
      }
    },
    {
      "cell_type": "code",
      "source": [
        "c = \"hello\"\n",
        "c.upper()"
      ],
      "metadata": {
        "colab": {
          "base_uri": "https://localhost:8080/",
          "height": 35
        },
        "id": "oCOdkeiEslGb",
        "outputId": "1cadf4b8-9bf3-462c-f372-f80e74221b42"
      },
      "execution_count": 5,
      "outputs": [
        {
          "output_type": "execute_result",
          "data": {
            "text/plain": [
              "'HELLO'"
            ],
            "application/vnd.google.colaboratory.intrinsic+json": {
              "type": "string"
            }
          },
          "metadata": {},
          "execution_count": 5
        }
      ]
    },
    {
      "cell_type": "markdown",
      "source": [
        "5. Write a code to replace the word \"apple\" with \"orange\" in a string \"i like apple\"."
      ],
      "metadata": {
        "id": "FOFrKroPmN2M"
      }
    },
    {
      "cell_type": "code",
      "source": [
        "d = \"i like apple\"\n",
        "d.replace(\"apple\",\"orange\")"
      ],
      "metadata": {
        "colab": {
          "base_uri": "https://localhost:8080/",
          "height": 35
        },
        "id": "806_aXL1skIt",
        "outputId": "542670d0-192e-441b-de9d-0e77cb9c2481"
      },
      "execution_count": 7,
      "outputs": [
        {
          "output_type": "execute_result",
          "data": {
            "text/plain": [
              "'i like orange'"
            ],
            "application/vnd.google.colaboratory.intrinsic+json": {
              "type": "string"
            }
          },
          "metadata": {},
          "execution_count": 7
        }
      ]
    },
    {
      "cell_type": "markdown",
      "source": [
        "6. Write a code to create a list with numbers 1 to 5 and print it."
      ],
      "metadata": {
        "id": "0WoxJJvEmNo1"
      }
    },
    {
      "cell_type": "code",
      "source": [
        " l = [1,2,3,4,5]\n",
        " print(l)"
      ],
      "metadata": {
        "colab": {
          "base_uri": "https://localhost:8080/"
        },
        "id": "A-6aig1BsjzA",
        "outputId": "08c59020-03d8-4e26-df59-f6ee3967fb13"
      },
      "execution_count": 8,
      "outputs": [
        {
          "output_type": "stream",
          "name": "stdout",
          "text": [
            "[1, 2, 3, 4, 5]\n"
          ]
        }
      ]
    },
    {
      "cell_type": "markdown",
      "source": [
        "7. Write a code to append the number 10 to the list [1,2,3,4]."
      ],
      "metadata": {
        "id": "p2l9KizXmNcb"
      }
    },
    {
      "cell_type": "code",
      "source": [
        "e = [1,2,3,4]\n",
        "e.append(10)\n",
        "e"
      ],
      "metadata": {
        "colab": {
          "base_uri": "https://localhost:8080/"
        },
        "id": "pz1oJ7lWsjhR",
        "outputId": "17454768-eedc-48bb-b9f4-2e4c57160a1c"
      },
      "execution_count": 9,
      "outputs": [
        {
          "output_type": "execute_result",
          "data": {
            "text/plain": [
              "[1, 2, 3, 4, 10]"
            ]
          },
          "metadata": {},
          "execution_count": 9
        }
      ]
    },
    {
      "cell_type": "markdown",
      "source": [
        "8. Write a code to remove the number 3 from the list [1,2,3,4,5]."
      ],
      "metadata": {
        "id": "QD98VtrLmNQu"
      }
    },
    {
      "cell_type": "code",
      "source": [
        "f = [1,2,3,4,5]\n",
        "f.remove(3)\n",
        "f"
      ],
      "metadata": {
        "colab": {
          "base_uri": "https://localhost:8080/"
        },
        "id": "nh2fs77tsjNq",
        "outputId": "24966c81-d3bb-4350-8cb8-3b529a3bb27e"
      },
      "execution_count": 10,
      "outputs": [
        {
          "output_type": "execute_result",
          "data": {
            "text/plain": [
              "[1, 2, 4, 5]"
            ]
          },
          "metadata": {},
          "execution_count": 10
        }
      ]
    },
    {
      "cell_type": "markdown",
      "source": [
        "9. Write a code to access the second element in the list['a','b','c','d']."
      ],
      "metadata": {
        "id": "OFeTXyiHmNDH"
      }
    },
    {
      "cell_type": "code",
      "source": [
        "l1 = [\"a\",\"b\", \"c\", \"d\"]\n",
        "l1[2]"
      ],
      "metadata": {
        "colab": {
          "base_uri": "https://localhost:8080/",
          "height": 35
        },
        "id": "4zDvHJ0zsi5p",
        "outputId": "d3d17bf3-8e75-4e84-afa3-91a007bc09d3"
      },
      "execution_count": 11,
      "outputs": [
        {
          "output_type": "execute_result",
          "data": {
            "text/plain": [
              "'c'"
            ],
            "application/vnd.google.colaboratory.intrinsic+json": {
              "type": "string"
            }
          },
          "metadata": {},
          "execution_count": 11
        }
      ]
    },
    {
      "cell_type": "markdown",
      "source": [
        "10. Write a code to reverse the list [10,20,30,40,50]."
      ],
      "metadata": {
        "id": "XHMp_dDFmM4p"
      }
    },
    {
      "cell_type": "code",
      "source": [
        "l2 = [10,20,30,40,50]\n",
        "l2[::-1]"
      ],
      "metadata": {
        "colab": {
          "base_uri": "https://localhost:8080/"
        },
        "id": "QmJAqLUPsij1",
        "outputId": "e90fee93-7151-42fb-9f49-ed193b22f71a"
      },
      "execution_count": 12,
      "outputs": [
        {
          "output_type": "execute_result",
          "data": {
            "text/plain": [
              "[50, 40, 30, 20, 10]"
            ]
          },
          "metadata": {},
          "execution_count": 12
        }
      ]
    },
    {
      "cell_type": "markdown",
      "source": [
        "11. Write a code to create a tuple with the elements 100,200,300 and print."
      ],
      "metadata": {
        "id": "Yg5HyNu0mMsD"
      }
    },
    {
      "cell_type": "code",
      "source": [
        "t = (100,200,300)\n",
        "print(t)"
      ],
      "metadata": {
        "colab": {
          "base_uri": "https://localhost:8080/"
        },
        "id": "TVaR_S8tshjF",
        "outputId": "b4263616-d4c0-4e11-c38b-ae130a7d31b9"
      },
      "execution_count": 13,
      "outputs": [
        {
          "output_type": "stream",
          "name": "stdout",
          "text": [
            "(100, 200, 300)\n"
          ]
        }
      ]
    },
    {
      "cell_type": "markdown",
      "source": [
        "12. Write a code to access the second to the last element of a tuple ('red','green','blue','yellow')."
      ],
      "metadata": {
        "id": "mlNT6l_imMft"
      }
    },
    {
      "cell_type": "code",
      "source": [
        "t1 = ('red', 'green', 'blue', 'yellow')\n",
        "t1[-2]"
      ],
      "metadata": {
        "colab": {
          "base_uri": "https://localhost:8080/",
          "height": 35
        },
        "id": "7yu9donVshOm",
        "outputId": "bf8baa2b-1df9-4c31-ef44-6c41413daea1"
      },
      "execution_count": 14,
      "outputs": [
        {
          "output_type": "execute_result",
          "data": {
            "text/plain": [
              "'blue'"
            ],
            "application/vnd.google.colaboratory.intrinsic+json": {
              "type": "string"
            }
          },
          "metadata": {},
          "execution_count": 14
        }
      ]
    },
    {
      "cell_type": "markdown",
      "source": [
        "13. Write a code to find the minimum number in the tuple (10, 20, 5, 15)."
      ],
      "metadata": {
        "id": "JH9eONXamMSx"
      }
    },
    {
      "cell_type": "code",
      "source": [
        "t3= (10,20,5,15)\n",
        "min(t3)"
      ],
      "metadata": {
        "colab": {
          "base_uri": "https://localhost:8080/"
        },
        "id": "m7Xs_B4Osgz2",
        "outputId": "5de63cf2-dbea-4fc1-f042-d65e4d1c0e5a"
      },
      "execution_count": 15,
      "outputs": [
        {
          "output_type": "execute_result",
          "data": {
            "text/plain": [
              "5"
            ]
          },
          "metadata": {},
          "execution_count": 15
        }
      ]
    },
    {
      "cell_type": "markdown",
      "source": [
        "14. Write a code to find the index of the element 'cat' in the tuple ('dog','cat','rabbit')."
      ],
      "metadata": {
        "id": "hf0f0sndmMG3"
      }
    },
    {
      "cell_type": "code",
      "source": [
        "t4 = (\"dog\",\"cat\", \"rabbit\")\n",
        "t4.index(\"cat\")"
      ],
      "metadata": {
        "colab": {
          "base_uri": "https://localhost:8080/"
        },
        "id": "Yiat8z3jsghc",
        "outputId": "8344c4dc-9adf-4c5d-e23a-3d79f55cda53"
      },
      "execution_count": 16,
      "outputs": [
        {
          "output_type": "execute_result",
          "data": {
            "text/plain": [
              "1"
            ]
          },
          "metadata": {},
          "execution_count": 16
        }
      ]
    },
    {
      "cell_type": "markdown",
      "source": [
        "15. Write a code to create a tuple containing three different fruits and check if \"kiwi\" is in it."
      ],
      "metadata": {
        "id": "M1O4281UmL5y"
      }
    },
    {
      "cell_type": "code",
      "source": [
        "t5= (\"pineapple\", \"Apple\", \"Grapes\")\n",
        "\"kiwi\" in t5"
      ],
      "metadata": {
        "colab": {
          "base_uri": "https://localhost:8080/"
        },
        "id": "syy84loUsgO8",
        "outputId": "13b24fcb-6600-4135-a1b1-cbe489a5cd7d"
      },
      "execution_count": 17,
      "outputs": [
        {
          "output_type": "execute_result",
          "data": {
            "text/plain": [
              "False"
            ]
          },
          "metadata": {},
          "execution_count": 17
        }
      ]
    },
    {
      "cell_type": "markdown",
      "source": [
        "16. Write a code to create a set of the elements 'a', 'b', 'c' and print it."
      ],
      "metadata": {
        "id": "MGh0dhfSmLtJ"
      }
    },
    {
      "cell_type": "code",
      "source": [
        "s = {\"a\", \"b\", \"c\"}\n",
        "print(s)"
      ],
      "metadata": {
        "colab": {
          "base_uri": "https://localhost:8080/"
        },
        "id": "gIwIWAVVsf7q",
        "outputId": "4a2ef627-6a16-4d7a-eec4-7402de7d5638"
      },
      "execution_count": 18,
      "outputs": [
        {
          "output_type": "stream",
          "name": "stdout",
          "text": [
            "{'b', 'a', 'c'}\n"
          ]
        }
      ]
    },
    {
      "cell_type": "markdown",
      "source": [
        "17. Write a code to clear all elements from the set {1,2,3,4,5}."
      ],
      "metadata": {
        "id": "rEObdZKLmLgl"
      }
    },
    {
      "cell_type": "code",
      "source": [
        "s1 = {1,2,3,4,5}\n",
        "s1.clear()\n",
        "s1"
      ],
      "metadata": {
        "colab": {
          "base_uri": "https://localhost:8080/"
        },
        "id": "SvM9gYKAsflD",
        "outputId": "cda533f0-6302-48cf-e12c-521495cad1a0"
      },
      "execution_count": 19,
      "outputs": [
        {
          "output_type": "execute_result",
          "data": {
            "text/plain": [
              "set()"
            ]
          },
          "metadata": {},
          "execution_count": 19
        }
      ]
    },
    {
      "cell_type": "markdown",
      "source": [
        "18. Write a code to remove the element 4 from the set {1,2,3,4}."
      ],
      "metadata": {
        "id": "AQHnIKkFmLUr"
      }
    },
    {
      "cell_type": "code",
      "source": [
        "s2 = {1,2,3,4}\n",
        "s2.remove(4)\n",
        "s2"
      ],
      "metadata": {
        "colab": {
          "base_uri": "https://localhost:8080/"
        },
        "id": "zMmHjks6seiG",
        "outputId": "3fe8e502-77e8-4eba-979a-6e0d047f34d8"
      },
      "execution_count": 20,
      "outputs": [
        {
          "output_type": "execute_result",
          "data": {
            "text/plain": [
              "{1, 2, 3}"
            ]
          },
          "metadata": {},
          "execution_count": 20
        }
      ]
    },
    {
      "cell_type": "markdown",
      "source": [
        "19. Write a code to find the union of two sets {1,2,3} and {3,4,5}."
      ],
      "metadata": {
        "id": "wRVNbT9LmLH2"
      }
    },
    {
      "cell_type": "code",
      "source": [
        "s3 = {1,2,3}\n",
        "s4 = {3,4,5}\n",
        "s3 | s4"
      ],
      "metadata": {
        "colab": {
          "base_uri": "https://localhost:8080/"
        },
        "id": "v5SVyQsasePn",
        "outputId": "3c034656-64b7-4a4a-bd10-82ed1c487eaf"
      },
      "execution_count": 21,
      "outputs": [
        {
          "output_type": "execute_result",
          "data": {
            "text/plain": [
              "{1, 2, 3, 4, 5}"
            ]
          },
          "metadata": {},
          "execution_count": 21
        }
      ]
    },
    {
      "cell_type": "markdown",
      "source": [
        "20. Write a code to find the intersection of two sets {1,2,3} and {2,3,4}."
      ],
      "metadata": {
        "id": "L-QjmPNamK5B"
      }
    },
    {
      "cell_type": "code",
      "source": [
        "s5 = {1,2,3}\n",
        "s6 = {2,3,4}\n",
        "s5 & s6"
      ],
      "metadata": {
        "colab": {
          "base_uri": "https://localhost:8080/"
        },
        "id": "_7aPvV6rsd5O",
        "outputId": "c60ea53f-784b-4026-efde-2c4dfd09b2ea"
      },
      "execution_count": 22,
      "outputs": [
        {
          "output_type": "execute_result",
          "data": {
            "text/plain": [
              "{2, 3}"
            ]
          },
          "metadata": {},
          "execution_count": 22
        }
      ]
    },
    {
      "cell_type": "markdown",
      "source": [
        "21. Write a code to create a dictionary with keys \"name\",\"age\" and \"city\" and print it."
      ],
      "metadata": {
        "id": "wOeETFDUmKrZ"
      }
    },
    {
      "cell_type": "code",
      "source": [
        "from re import M\n",
        "my_dict = {\"name\":\"Lavanya\", \"age\": 22, \"city\": \"Hisar\"}\n",
        "print(my_dict)"
      ],
      "metadata": {
        "colab": {
          "base_uri": "https://localhost:8080/"
        },
        "id": "zkkpfP53sdla",
        "outputId": "a7dab7fe-7d77-40e2-9b07-014f3f695322"
      },
      "execution_count": 23,
      "outputs": [
        {
          "output_type": "stream",
          "name": "stdout",
          "text": [
            "{'name': 'Lavanya', 'age': 22, 'city': 'Hisar'}\n"
          ]
        }
      ]
    },
    {
      "cell_type": "markdown",
      "source": [
        "22. Write a code to add a new key-value pair \"country\":\"USA\" to the dictionary {\"name\":\"John\",\"age\":\"25\"}."
      ],
      "metadata": {
        "id": "xpycwGrTmKeg"
      }
    },
    {
      "cell_type": "code",
      "source": [
        "my_dict1 = {\"name\": \"John\", \"age\": 25}\n",
        "my_dict1[\"country\"] = \"USA\"\n",
        "my_dict1"
      ],
      "metadata": {
        "colab": {
          "base_uri": "https://localhost:8080/"
        },
        "id": "o_fDRqdzsdNX",
        "outputId": "3f50fe8c-91d0-4c50-a6ef-62e6d57a20b1"
      },
      "execution_count": 25,
      "outputs": [
        {
          "output_type": "execute_result",
          "data": {
            "text/plain": [
              "{'name': 'John', 'age': 25, 'country': 'USA'}"
            ]
          },
          "metadata": {},
          "execution_count": 25
        }
      ]
    },
    {
      "cell_type": "markdown",
      "source": [
        "23. Write a code to access the value associated with the key \"name\" in the dictionary{\"name\":\"alice\",\"age\":\"30\"}."
      ],
      "metadata": {
        "id": "4bsyduKkmKRm"
      }
    },
    {
      "cell_type": "code",
      "source": [
        "my_dict2 = {\"name\": \"Alice\", \"age\": 30}\n",
        "my_dict2[\"name\"]"
      ],
      "metadata": {
        "colab": {
          "base_uri": "https://localhost:8080/",
          "height": 35
        },
        "id": "iXAOOn_jscGf",
        "outputId": "1d686403-e3b9-4abe-e7ec-b40b99c0c5b9"
      },
      "execution_count": 26,
      "outputs": [
        {
          "output_type": "execute_result",
          "data": {
            "text/plain": [
              "'Alice'"
            ],
            "application/vnd.google.colaboratory.intrinsic+json": {
              "type": "string"
            }
          },
          "metadata": {},
          "execution_count": 26
        }
      ]
    },
    {
      "cell_type": "markdown",
      "source": [
        "24. Write code to remove the key \"age\" from the dictionary {'name':'Bob', 'age':'22', 'city':'New York'}."
      ],
      "metadata": {
        "id": "LP_4dRjNmKFr"
      }
    },
    {
      "cell_type": "code",
      "source": [
        "my_dict3 = {\"name\": \"Bob\", \"age\": 22, \"city\": \"New York\"}\n",
        "my_dict3.pop(\"age\")\n",
        "my_dict3"
      ],
      "metadata": {
        "colab": {
          "base_uri": "https://localhost:8080/"
        },
        "id": "fTMmMAPjsbtK",
        "outputId": "de42d1fe-5284-401d-ef3b-ea4928bfc789"
      },
      "execution_count": 28,
      "outputs": [
        {
          "output_type": "execute_result",
          "data": {
            "text/plain": [
              "{'name': 'Bob', 'city': 'New York'}"
            ]
          },
          "metadata": {},
          "execution_count": 28
        }
      ]
    },
    {
      "cell_type": "markdown",
      "source": [
        "25. Write a code to check if the key \"city\" exists in the dictionary {'name':'Alice', 'city':'Paris'}."
      ],
      "metadata": {
        "id": "0c5l5CECmJ4x"
      }
    },
    {
      "cell_type": "code",
      "source": [
        "my_dict4 = {\"name\": \"Alice\", \"city\": \"Paris\"}\n",
        "\"city\" in my_dict4"
      ],
      "metadata": {
        "colab": {
          "base_uri": "https://localhost:8080/"
        },
        "id": "DMlwvnJ6sbTj",
        "outputId": "0b532d48-d3a9-4c68-b9f9-5d6e038601d0"
      },
      "execution_count": 29,
      "outputs": [
        {
          "output_type": "execute_result",
          "data": {
            "text/plain": [
              "True"
            ]
          },
          "metadata": {},
          "execution_count": 29
        }
      ]
    },
    {
      "cell_type": "markdown",
      "source": [
        "26. Write a code to create a tuple and a dictionary and print them all."
      ],
      "metadata": {
        "id": "SfGk82IUmJsI"
      }
    },
    {
      "cell_type": "code",
      "source": [
        "t5= (\"pineapple\", \"Apple\", \"Grapes\")\n",
        "my_dict3 = {\"name\": \"Bob\", \"age\": 22, \"city\": \"New York\"}\n",
        "print(t5)\n",
        "print (my_dict3)"
      ],
      "metadata": {
        "colab": {
          "base_uri": "https://localhost:8080/"
        },
        "id": "M6N3AL6Hsa9Z",
        "outputId": "d2c2284c-2658-41d3-fd37-1c4760a1276c"
      },
      "execution_count": 30,
      "outputs": [
        {
          "output_type": "stream",
          "name": "stdout",
          "text": [
            "('pineapple', 'Apple', 'Grapes')\n",
            "{'name': 'Bob', 'age': 22, 'city': 'New York'}\n"
          ]
        }
      ]
    },
    {
      "cell_type": "markdown",
      "source": [
        "27. Write a code to create a list of 5 random numbers between 1 and 100, sort it in ascending order and print the result.(replaced)"
      ],
      "metadata": {
        "id": "JYxpAck5mJgP"
      }
    },
    {
      "cell_type": "code",
      "source": [
        "my_list = [98, 56, 76, 95, 35]\n",
        "my_list.sort()\n",
        "my_list"
      ],
      "metadata": {
        "colab": {
          "base_uri": "https://localhost:8080/"
        },
        "id": "yclElDyzsZ8t",
        "outputId": "d2ab4179-c6a0-47ba-e3d8-1ab472dd7bd9"
      },
      "execution_count": 31,
      "outputs": [
        {
          "output_type": "execute_result",
          "data": {
            "text/plain": [
              "[35, 56, 76, 95, 98]"
            ]
          },
          "metadata": {},
          "execution_count": 31
        }
      ]
    },
    {
      "cell_type": "markdown",
      "source": [
        "28. Write a code to create a list with strings and print the elements at the third index."
      ],
      "metadata": {
        "id": "bDDhItXSmJR6"
      }
    },
    {
      "cell_type": "code",
      "source": [
        "l8 = [\"Ajay\", \"Lavi\", \"Daisy\", \"Priya\", \"Anshum\"]\n",
        "print(l8[3])"
      ],
      "metadata": {
        "colab": {
          "base_uri": "https://localhost:8080/"
        },
        "id": "GEqzyQkysZj5",
        "outputId": "7f65aa12-1d01-4f8e-b160-b5e1617d5a33"
      },
      "execution_count": 34,
      "outputs": [
        {
          "output_type": "stream",
          "name": "stdout",
          "text": [
            "Priya\n"
          ]
        }
      ]
    },
    {
      "cell_type": "markdown",
      "source": [
        "29. Write a code to combine two dictionaries into one and print the result."
      ],
      "metadata": {
        "id": "qsQ1anVmmJED"
      }
    },
    {
      "cell_type": "code",
      "source": [
        "i = my_dict2.update(my_dict)\n",
        "print(i)"
      ],
      "metadata": {
        "colab": {
          "base_uri": "https://localhost:8080/"
        },
        "id": "1pxZbMxYsZNE",
        "outputId": "7f5b8602-7099-4914-b2a4-9aaabcd40eca"
      },
      "execution_count": 40,
      "outputs": [
        {
          "output_type": "stream",
          "name": "stdout",
          "text": [
            "None\n"
          ]
        }
      ]
    },
    {
      "cell_type": "markdown",
      "source": [
        "30. Write a code to covert a list of strings into a set."
      ],
      "metadata": {
        "id": "AQCOXr5kmI2o"
      }
    },
    {
      "cell_type": "code",
      "source": [
        "l8 = [\"Ajay\", \"Lavi\", \"Daisy\", \"Priya\", \"Anshum\"]\n",
        "string_set = set(l8)\n",
        "print(string_set)"
      ],
      "metadata": {
        "colab": {
          "base_uri": "https://localhost:8080/"
        },
        "id": "2SboObVlsYva",
        "outputId": "8e262735-4bfa-497c-c8b9-59f576b830dd"
      },
      "execution_count": 39,
      "outputs": [
        {
          "output_type": "stream",
          "name": "stdout",
          "text": [
            "{'Daisy', 'Anshum', 'Priya', 'Lavi', 'Ajay'}\n"
          ]
        }
      ]
    },
    {
      "cell_type": "code",
      "source": [],
      "metadata": {
        "id": "mP5dJ4_Z3TBb"
      },
      "execution_count": null,
      "outputs": []
    }
  ]
}